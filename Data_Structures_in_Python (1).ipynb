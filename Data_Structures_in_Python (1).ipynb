{
 "cells": [
  {
   "cell_type": "code",
   "execution_count": 1,
   "id": "41a843c4-9215-4f46-88cc-17548b60da7f",
   "metadata": {},
   "outputs": [
    {
     "name": "stdin",
     "output_type": "stream",
     "text": [
      "Enter the name to reverse: Ayush\n"
     ]
    },
    {
     "name": "stdout",
     "output_type": "stream",
     "text": [
      "hsuyA\n"
     ]
    }
   ],
   "source": [
    "# 1.Write a code to reverse a string\n",
    "string1= input(\"Enter the name to reverse:\") # Getting string input by user \n",
    "l= len(string1) #getting length of string\n",
    "j=1\n",
    "a=\"\" #intitaising the empty string\n",
    "while j<=l:         #want loop to run till the lenght of string1\n",
    "      b=string1[-j] # storing the characters in a string \n",
    "      a=a+b         #concatenating the characters\n",
    "      j+=1          # increasin the j value to run loop\n",
    "print(a) "
   ]
  },
  {
   "cell_type": "code",
   "execution_count": 10,
   "id": "90e9d1f2-00a6-4608-83ee-8202fcb3c27f",
   "metadata": {},
   "outputs": [
    {
     "name": "stdin",
     "output_type": "stream",
     "text": [
      "Enter the name: Krishna Chandra Mathur\n"
     ]
    },
    {
     "name": "stdout",
     "output_type": "stream",
     "text": [
      "6\n"
     ]
    }
   ],
   "source": [
    "# 2.Write a code to count the number of vowels in a string\n",
    "string1= input(\"Enter the name:\")\n",
    "a = 0\n",
    "\n",
    "# Loop through each character in the string\n",
    "for i in string1:\n",
    "    # Check if the character is a vowel\n",
    "    if i in 'AEIOUaeiou':\n",
    "        a += 1\n",
    "\n",
    "print(a)\n",
    "\n",
    "    "
   ]
  },
  {
   "cell_type": "code",
   "execution_count": 25,
   "id": "f635fefd-77fc-4a59-b53b-42355764ac4d",
   "metadata": {},
   "outputs": [
    {
     "name": "stdin",
     "output_type": "stream",
     "text": [
      "Enter the name to Check if Palindrome Or not: Radar\n"
     ]
    },
    {
     "name": "stdout",
     "output_type": "stream",
     "text": [
      "Yes Radar is Palindrome\n"
     ]
    }
   ],
   "source": [
    "#3. Write a code to check if a given string is a palindrome or not\n",
    "string= input(\"Enter the name to Check if Palindrome Or not:\")# Getting string input by user \n",
    "string1 = string.lower()\n",
    "l= len(string1) #getting length of string\n",
    "j=1\n",
    "a=\"\" #intitaising the empty string\n",
    "while j<=l:         #want loop to run till the lenght of string1\n",
    "      b=string1[-j] # storing the characters in a string \n",
    "      a=a+b         #concatenating the characters\n",
    "      j+=1          # increasin the j value to run loop\n",
    "if string1==a: #if condition to check if palindrome or not \n",
    "    print(f\"Yes {string} is Palindrome\")\n",
    "else:\n",
    "    print(f\"No {string}is not Palindrome\")\n"
   ]
  },
  {
   "cell_type": "code",
   "execution_count": 1,
   "id": "444a58dc-eeec-4f47-93ff-7e0aef597e4d",
   "metadata": {},
   "outputs": [
    {
     "name": "stdin",
     "output_type": "stream",
     "text": [
      "Enter the first String: Race\n",
      "Enter the first String: Care\n"
     ]
    },
    {
     "name": "stdout",
     "output_type": "stream",
     "text": [
      "The race and care string are anagrams.\n"
     ]
    }
   ],
   "source": [
    "#4.Write a code to check if two given strings are anagrams of each other.\n",
    "a = input(\"Enter the first String:\")\n",
    "b = input(\"Enter the first String:\")\n",
    "\n",
    "# Convert both strings to lowercase and remove spaces\n",
    "a = a.lower()\n",
    "b = b.lower()\n",
    "\n",
    "# Check if the lengths of the strings are equal (anagrams must have the same length)\n",
    "if len(a) != len(b):\n",
    "    print(\"The strings are not anagrams.\")\n",
    "else:\n",
    "    # Create dictionaries to store character counts\n",
    "    count_a = {}\n",
    "    count_b = {}\n",
    "\n",
    "    # Count characters in the first string\n",
    "    for char in a:\n",
    "        count_a[char] = count_a.get(char, 0) + 1 #used 0 to avoid error in case \n",
    "\n",
    "    # Count characters in the second string\n",
    "    for char in b:\n",
    "        count_b[char] = count_b.get(char, 0) + 1\n",
    "\n",
    "    # Compare the two dictionaries\n",
    "    if count_a == count_b:\n",
    "        print(f\"The {a} and {b} string are anagrams.\")\n",
    "    else:\n",
    "        print(\"The strings are not anagrams.\")\n",
    "\n",
    "\n",
    "    \n",
    "    "
   ]
  },
  {
   "cell_type": "code",
   "execution_count": 9,
   "id": "269bbb9b-2c3d-4982-b9b9-0c916d18a0d2",
   "metadata": {},
   "outputs": [
    {
     "name": "stdout",
     "output_type": "stream",
     "text": [
      "[2, 5]\n"
     ]
    }
   ],
   "source": [
    "#5.Write a code to find all occurrences of a given substring within another string.\n",
    "string1 = \"This is a test\"\n",
    "string = string1.lower()\n",
    "substring = \"is\"\n",
    "a = []  # List to store starting indices of matches\n",
    "l = len(string)\n",
    "sub_len = len(substring)\n",
    "\n",
    "for m in range(l - sub_len + 1):  # Loop through the string\n",
    "    if string[m:m + sub_len] == substring:  # Check if substring matches\n",
    "        a.append(m)  # Append the starting index\n",
    "\n",
    "print(a)\n",
    "\n",
    "\n"
   ]
  },
  {
   "cell_type": "code",
   "execution_count": 23,
   "id": "979c5c33-b8ca-4966-b9d1-e48b79e86039",
   "metadata": {},
   "outputs": [
    {
     "name": "stdout",
     "output_type": "stream",
     "text": [
      "a2bcdew\n"
     ]
    }
   ],
   "source": [
    "#6.Write a code to perform basic string compression using the counts of repeated characters\n",
    "a = \"aabcdew\"\n",
    "l = len(a)\n",
    "b = \"\"  # Result string\n",
    "count = 1  # Counter to keep track of repeated characters\n",
    "\n",
    "# Iterate through the string\n",
    "for j in range(1, l):\n",
    "    if a[j] == a[j - 1]:  # If current character is the same as previous one\n",
    "        count += 1\n",
    "    else:  # If characters are different, append the character and its count\n",
    "        b += a[j - 1]\n",
    "        if count > 1:\n",
    "            b += str(count)\n",
    "        count = 1  # Reset count for the next character\n",
    "\n",
    "b += a[-1]\n",
    "if count > 1:\n",
    "    b += str(count)\n",
    "\n",
    "print(b) "
   ]
  },
  {
   "cell_type": "code",
   "execution_count": 18,
   "id": "c3821d84-021d-4b7a-b349-b954d6bb8b37",
   "metadata": {},
   "outputs": [
    {
     "name": "stdout",
     "output_type": "stream",
     "text": [
      "No, it does not have all unique characters\n"
     ]
    }
   ],
   "source": [
    "#7.Write a code to determine if a string has all unique characters\n",
    "a = \"aabcdew\"\n",
    "b = \"\"\n",
    "\n",
    "for i in range(len(a)):\n",
    "    if a[i] in b:  # Check if the character is already in the string b\n",
    "        print(\"No, it does not have all unique characters\")\n",
    "        break;\n",
    "    else:\n",
    "        b += a[i]  # Add character to string\n",
    "\n",
    "else:\n",
    "    print(\"Yes, it has all unique characters\")\n"
   ]
  },
  {
   "cell_type": "code",
   "execution_count": 3,
   "id": "26ba4af6-53f2-49d2-8d08-c9fa067bdb48",
   "metadata": {},
   "outputs": [
    {
     "name": "stdout",
     "output_type": "stream",
     "text": [
      "ayush\n"
     ]
    }
   ],
   "source": [
    "#8.Write a code to convert a given string to uppercase or lowercase.\n",
    "string = \"Ayush\"\n",
    "lowercase_string = \"\"\n",
    "for char in string:\n",
    "    if 'A' <= char <= 'Z':  # Check if the character is uppercase\n",
    "        lowercase_string += chr(ord(char) + 32)  # Convert to lowercase\n",
    "    else:\n",
    "        lowercase_string += char  # Leave other characters unchanged\n",
    "print(lowercase_string)  # Output: ayush\n"
   ]
  },
  {
   "cell_type": "code",
   "execution_count": 17,
   "id": "b42f7f20-adf9-45e1-9b66-201616d7b4f4",
   "metadata": {},
   "outputs": [
    {
     "name": "stdout",
     "output_type": "stream",
     "text": [
      "Number of words: 4\n"
     ]
    }
   ],
   "source": [
    "#9.Write a code to count the number of words in a string.\n",
    "String = \"Ayush Mathur is here\"  # Define a string with multiple words.\n",
    "\n",
    "# Initialize a counter to 1 if the string is non-empty, as there is at least one word.\n",
    "if String.strip():  # Check if the string is not empty or all spaces.\n",
    "    count = 1\n",
    "else:\n",
    "    count = 0\n",
    "\n",
    "# Loop through the string to count spaces, which separate words.\n",
    "for char in String:\n",
    "    if char == \" \":  # Check for spaces.\n",
    "        count += 1\n",
    "\n",
    "print(\"Number of words:\", count)  # Output the word count.\n"
   ]
  },
  {
   "cell_type": "code",
   "execution_count": 6,
   "id": "7f4dfa9e-6531-4598-9854-105b5e330785",
   "metadata": {},
   "outputs": [
    {
     "name": "stdout",
     "output_type": "stream",
     "text": [
      "Ayush Mathur\n"
     ]
    }
   ],
   "source": [
    "#10.Write a code to concatenate two strings without using the + operator\n",
    "string1 = \"Ayush\"\n",
    "string2 = \"Mathur\"\n",
    "String = \"\"\n",
    "\n",
    "# Loop through the first string and add characters to String\n",
    "for i in string1:\n",
    "    String = \"\".join([String, i])  # Join characters one by one to String\n",
    "\n",
    "# Add a space manually\n",
    "String = \"\".join([String, \" \"])  # Join the space to String\n",
    "\n",
    "# Loop through the second string and add characters to String\n",
    "for i in string2:\n",
    "    String = \"\".join([String, i])  # Join characters one by one to String\n",
    "\n",
    "print(String)\n"
   ]
  },
  {
   "cell_type": "code",
   "execution_count": 30,
   "id": "4bd76f51-11fa-49f6-b6ce-a2ea108b9a10",
   "metadata": {},
   "outputs": [
    {
     "data": {
      "text/plain": [
       "[1, 3, 5, 6]"
      ]
     },
     "execution_count": 30,
     "metadata": {},
     "output_type": "execute_result"
    }
   ],
   "source": [
    "#11.Write a code to remove all occurrences of a specific element from a list.\n",
    "\n",
    "# Define the input list and the element to remove\n",
    "list1 = [1, 2, 3, 2, 5, 2, 6]  # Input list\n",
    "element_to_remove = 2  # Element to be removed from the list\n",
    "\n",
    "# Initialize an empty list to store the result\n",
    "list2 = []\n",
    "\n",
    "# Iterate through each element in list1\n",
    "for i in range(0, len(list1)):\n",
    "    # Check if the current element is not equal to the element to remove\n",
    "    if list1[i] != element_to_remove:\n",
    "        list2.append(list1[i])  # Add the element to list2 if it doesn't match\n",
    "\n",
    "# Print the resulting list without the unwanted element\n",
    "print(list2)  # Output: [1, 3, 5, 6]\n"
   ]
  },
  {
   "cell_type": "code",
   "execution_count": 48,
   "id": "c34ebae9-7b9d-4572-8d25-e39f9e173895",
   "metadata": {},
   "outputs": [
    {
     "name": "stdout",
     "output_type": "stream",
     "text": [
      "Sorted list: [1, 2, 5, 10, 11]\n",
      "The second largest number is: 10\n"
     ]
    }
   ],
   "source": [
    "#12.Implement a code to find the second largest number in a given list of integers.\n",
    "# Define the list of integers\n",
    "list1 = [1, 10, 5, 11, 2]\n",
    "\n",
    "# Perform Bubble Sort\n",
    "for i in range(len(list1)-1):\n",
    "    for j in range(0, len(list1) - i - 1):  # Adjust range to avoid redundant comparisons\n",
    "        if list1[j] > list1[j + 1]:\n",
    "            # Swap elements if they are in the wrong order\n",
    "            list1[j], list1[j + 1] = list1[j + 1], list1[j]\n",
    "\n",
    "# Print the sorted list\n",
    "print(\"Sorted list:\", list1)\n",
    "\n",
    "# Get the second largest number\n",
    "if len(list1) < 2:\n",
    "    print(\"List must contain at least two elements.\")\n",
    "else:\n",
    "    second_largest = list1[-2]  # The second largest is the second last element in a sorted list\n",
    "    print(\"The second largest number is:\", second_largest)\n"
   ]
  },
  {
   "cell_type": "code",
   "execution_count": 59,
   "id": "3924850f-5fe3-4c73-a4c5-a50bb6151a03",
   "metadata": {},
   "outputs": [
    {
     "name": "stdout",
     "output_type": "stream",
     "text": [
      "{11: 2, 2: 2, 3: 1}\n"
     ]
    }
   ],
   "source": [
    "#13.Create a code to count the occurrences of each element in a list and return a dictionary with elements as keys and their counts as values.\n",
    "list1 = [11, 2, 11, 2, 3]\n",
    "dic = {}\n",
    "\n",
    "# Iterate through the list\n",
    "for i in range(len(list1)):\n",
    "    if list1[i] not in dic:  # Only count if the element hasn't been counted yet\n",
    "        count = 1  # Initialize count for the current element\n",
    "        for j in range(i + 1, len(list1)):\n",
    "            if list1[i] == list1[j]:\n",
    "                count += 1  # Increment count if the element is found again\n",
    "        dic[list1[i]] = count  # Store the count in the dictionary\n",
    "\n",
    "print(dic)\n",
    "\n"
   ]
  },
  {
   "cell_type": "code",
   "execution_count": 18,
   "id": "e96b638e-cb9c-4d5a-ab36-83feff9fd32d",
   "metadata": {},
   "outputs": [
    {
     "name": "stdout",
     "output_type": "stream",
     "text": [
      "Reversed List: [2, 3, 5, 1]\n"
     ]
    }
   ],
   "source": [
    "#14.Write a code to reverse a list in-place without using any built-in reverse functions.\n",
    "\n",
    "# Define the list of integers\n",
    "list1 = [1, 5, 3, 2]\n",
    "\n",
    "# Reverse the list in place\n",
    "left = 0\n",
    "right = len(list1) - 1\n",
    "\n",
    "while left < right:\n",
    "    list1[left], list1[right] = list1[right], list1[left]\n",
    "    left += 1\n",
    "    right -= 1\n",
    "\n",
    "print(f\"Reversed List: {list1}\")\n"
   ]
  },
  {
   "cell_type": "code",
   "execution_count": 26,
   "id": "41fba3fe-047f-404d-8fc1-f51685cea7f1",
   "metadata": {},
   "outputs": [
    {
     "name": "stdout",
     "output_type": "stream",
     "text": [
      "[1, 2, 3, 5, 4, 7]\n"
     ]
    }
   ],
   "source": [
    "#15.Implement a code to find and remove duplicates from a list while preserving the original order of element.\n",
    "\n",
    "a = [1, 2, 1, 2, 3, 5,4,7]\n",
    "result = []\n",
    "\n",
    "for i in a:\n",
    "    if i not in result:\n",
    "        result.append(i)\n",
    "\n",
    "print(result)\n",
    "  \n",
    "\n"
   ]
  },
  {
   "cell_type": "code",
   "execution_count": 19,
   "id": "874b1f57-3b57-4235-ae89-96b6a5cdb1d8",
   "metadata": {},
   "outputs": [
    {
     "name": "stdout",
     "output_type": "stream",
     "text": [
      "No, the list is not sorted\n"
     ]
    }
   ],
   "source": [
    "#16.Create a code to check if a given list is sorted (either in ascending or descending order) or not.\n",
    "a = [1, 7, 2, 8, 3, 4, 5]\n",
    "\n",
    "# Check if the list is sorted in ascending order\n",
    "ascending = True\n",
    "descending = True\n",
    "\n",
    "for i in range(len(a) - 1):\n",
    "    if a[i] > a[i + 1]:\n",
    "        ascending = False  # If any element is greater than the next, it's not ascending\n",
    "    if a[i] < a[i + 1]:\n",
    "        descending = False  # If any element is smaller than the next, it's not descending\n",
    "\n",
    "if ascending:\n",
    "    print(\"Yes, the list is sorted in ascending order\")\n",
    "elif descending:\n",
    "    print(\"Yes, the list is sorted in descending order\")\n",
    "else:\n",
    "    print(\"No, the list is not sorted\")\n"
   ]
  },
  {
   "cell_type": "code",
   "execution_count": 43,
   "id": "16f3c34d-e2a3-4763-bd87-e5be703ba9f6",
   "metadata": {},
   "outputs": [
    {
     "name": "stdout",
     "output_type": "stream",
     "text": [
      "[1, 1, 2, 3, 3, 4, 4, 5, 5]\n"
     ]
    }
   ],
   "source": [
    "#17.rite a code to merge two sorted lists into a single sorted list.\n",
    "a=[1,2,3,4,5]\n",
    "b=[1,3,4,5]\n",
    "c=a+b\n",
    "\n",
    "for i in range(len(a)-1):\n",
    "    for j in range(0,len(c)-i-1):\n",
    "         if c[j] > c[j+1]:\n",
    "             c[j],c[j+1]=c[j+1],c[j]\n",
    "\n",
    "print(c)"
   ]
  },
  {
   "cell_type": "code",
   "execution_count": 46,
   "id": "6dd4d729-53e4-454a-bb84-17a3b2168e0b",
   "metadata": {},
   "outputs": [
    {
     "name": "stdout",
     "output_type": "stream",
     "text": [
      "[3, 4]\n"
     ]
    }
   ],
   "source": [
    "#18.Implement a code to find the intersection of two given lists.\n",
    "a=[1,2,3,4]\n",
    "b=[3,4,5,6]\n",
    "c=[]\n",
    "\n",
    "for i in a :\n",
    "    for j in b:\n",
    "        if i == j:\n",
    "            c.append(i)\n",
    "\n",
    "\n",
    "print(c)\n",
    "        \n",
    "      "
   ]
  },
  {
   "cell_type": "code",
   "execution_count": 49,
   "id": "b97596c1-1cdd-482e-a967-2f845fc9d8fe",
   "metadata": {},
   "outputs": [
    {
     "name": "stdout",
     "output_type": "stream",
     "text": [
      "[1, 2, 3, 4, 5, 6]\n"
     ]
    }
   ],
   "source": [
    "# 19.Create a code to find the union of two lists without duplicates.\n",
    "a = [1, 2, 3, 4]\n",
    "b = [3,1, 4, 5, 6]\n",
    "c = a + b\n",
    "d=[]\n",
    "for i in c:\n",
    "    if i not in d:\n",
    "        d.append(i)\n",
    "\n",
    "\n",
    "print(d)"
   ]
  },
  {
   "cell_type": "code",
   "execution_count": 50,
   "id": "169d1c42-25e3-4b08-a82c-3c09baf445df",
   "metadata": {},
   "outputs": [
    {
     "name": "stdout",
     "output_type": "stream",
     "text": [
      "Shuffled List: [1, 3, 4, 5, 2]\n"
     ]
    }
   ],
   "source": [
    "#20.Write a code to shuffle a given list randomly without using any built-in shuffle functions.\n",
    "import random  # Only to generate random indices\n",
    "\n",
    "# Original list\n",
    "my_list = [1, 2, 3, 4, 5]\n",
    "\n",
    "# Shuffling logic\n",
    "n = len(my_list)\n",
    "for i in range(n - 1, 0, -1):  # Start from the last index and move backward\n",
    "    j = random.randint(0, i)  # Generate a random index between 0 and i\n",
    "    # Swap the elements at indices i and j\n",
    "    my_list[i], my_list[j] = my_list[j], my_list[i]\n",
    "\n",
    "# Output the shuffled list\n",
    "print(\"Shuffled List:\", my_list)\n"
   ]
  },
  {
   "cell_type": "code",
   "execution_count": 7,
   "id": "9eee5d05-f4fa-4d00-9102-b17256327028",
   "metadata": {},
   "outputs": [
    {
     "name": "stdin",
     "output_type": "stream",
     "text": [
      "Enter the first input (comma-separated):  Apple,Banana,Orange\n",
      "Enter the second input (comma-separated):  Apple,Pomoganate\n"
     ]
    },
    {
     "name": "stdout",
     "output_type": "stream",
     "text": [
      "Common elements: ('Apple',)\n"
     ]
    }
   ],
   "source": [
    "#21.Write a code that takes two tuples as input and returns a new tuple containing elements that are common to both input tuples.\n",
    "# Taking input from the user and converting it to tuples\n",
    "a = tuple(input(\"Enter the first input (comma-separated): \").split(','))\n",
    "b = tuple(input(\"Enter the second input (comma-separated): \").split(','))\n",
    "# Initialize an empty tuple for common elements\n",
    "c = ()\n",
    "# Finding common elements\n",
    "for i in a:\n",
    "    if i in b:  # Check if the element exists in the second tuple\n",
    "        c += (i,)  # Concatenate the element as a tuple\n",
    "# Print the result\n",
    "print(\"Common elements:\", c)"
   ]
  },
  {
   "cell_type": "code",
   "execution_count": 10,
   "id": "d2233d41-df01-4996-b29c-7875441fde1e",
   "metadata": {},
   "outputs": [
    {
     "name": "stdin",
     "output_type": "stream",
     "text": [
      "Enter the first set of integers (comma-separated):  10,20,30,40,10\n",
      "Enter the second set of integers (comma-separated):  20,10,30,40,50\n"
     ]
    },
    {
     "name": "stdout",
     "output_type": "stream",
     "text": [
      "Intersection: {40, 10, 20, 30}\n"
     ]
    }
   ],
   "source": [
    "#22.Create a code that prompts the user to enter two sets of integers separated by commas. Then, print the intersection of these two sets.\n",
    "# Input two sets of integers\n",
    "set1 = set(map(int, input(\"Enter the first set of integers (comma-separated): \").split(',')))#map used here to convert string into integer\n",
    "set2 = set(map(int, input(\"Enter the second set of integers (comma-separated): \").split(',')))\n",
    "\n",
    "# Find the intersection\n",
    "intersection = set1 & set2\n",
    "\n",
    "# Print the result\n",
    "print(\"Intersection:\", intersection)\n",
    "\n"
   ]
  },
  {
   "cell_type": "code",
   "execution_count": 11,
   "id": "0eb26034-9646-43c0-9be0-90211504d286",
   "metadata": {},
   "outputs": [
    {
     "name": "stdin",
     "output_type": "stream",
     "text": [
      "Enter the first tuple (comma-separated):  a,b,c,d,e\n",
      "Enter the second tuple (comma-separated):  g,h,i,j,k,l\n"
     ]
    },
    {
     "name": "stdout",
     "output_type": "stream",
     "text": [
      "Concatenated Tuple: ('a', 'b', 'c', 'd', 'e', 'g', 'h', 'i', 'j', 'k', 'l')\n"
     ]
    }
   ],
   "source": [
    "#23.Write a code to concatenate two tuples. The function should take two tuples as input and return a new tuple containing elements from both input tuples.\n",
    "# Input from the user\n",
    "tuple1 = tuple(input(\"Enter the first tuple (comma-separated): \").split(','))\n",
    "tuple2 = tuple(input(\"Enter the second tuple (comma-separated): \").split(','))\n",
    "\n",
    "# Concatenate the tuples\n",
    "concatenated_tuple = tuple1 + tuple2\n",
    "\n",
    "# Print the result\n",
    "print(\"Concatenated Tuple:\", concatenated_tuple)\n",
    "\n"
   ]
  },
  {
   "cell_type": "code",
   "execution_count": 16,
   "id": "21cbb2a5-7ba2-4d08-adcd-47d29e0c0e70",
   "metadata": {},
   "outputs": [
    {
     "name": "stdin",
     "output_type": "stream",
     "text": [
      "Enter the first set of strings (separated by spaces):  banana cherry date\n",
      "Enter the second set of strings (separated by spaces):  apple banana cherry\n"
     ]
    },
    {
     "name": "stdout",
     "output_type": "stream",
     "text": [
      "Elements in the first set but not in the second set: {'date'}\n"
     ]
    }
   ],
   "source": [
    "#24.Develop a code that prompts the user to input two sets of strings.\n",
    "#Then, print the elements that are present in the first set but not in the second set.\n",
    "\n",
    "# Prompt the user for input and convert to sets\n",
    "set1 = set(input(\"Enter the first set of strings (separated by spaces): \").split())\n",
    "set2 = set(input(\"Enter the second set of strings (separated by spaces): \").split())\n",
    "\n",
    "# Find elements present in set1 but not in set2\n",
    "result = set1 - set2\n",
    "\n",
    "# Print the result\n",
    "print(\"Elements in the first set but not in the second set:\", result)\n"
   ]
  },
  {
   "cell_type": "code",
   "execution_count": 7,
   "id": "4f1ef76a-d41d-4fd3-b512-e6fa303119dc",
   "metadata": {},
   "outputs": [
    {
     "name": "stdin",
     "output_type": "stream",
     "text": [
      "Enter the elements of the tuple, separated by commas:  apple, banana, cherry, date, fig\n",
      "Enter the starting index:  1\n",
      "Enter the ending index (exclusive):  4\n"
     ]
    },
    {
     "name": "stdout",
     "output_type": "stream",
     "text": [
      "The new tuple is: ('banana', 'cherry', 'date')\n"
     ]
    }
   ],
   "source": [
    "#25.Create a code that takes a tuple and two integers as input.The function should return a new tuple containing elements from the original tuple within the specified range of indices.\n",
    "# Prompt the user for input\n",
    "tuple_input = input(\"Enter the elements of the tuple, separated by commas: \")\n",
    "# Convert the input string into a tuple\n",
    "original_tuple = tuple(map(str.strip, tuple_input.split(',')))\n",
    "\n",
    "# Prompt the user for the range of indices\n",
    "start_index = int(input(\"Enter the starting index: \"))\n",
    "end_index = int(input(\"Enter the ending index (exclusive): \"))\n",
    "\n",
    "# Slice the tuple to get the specified range\n",
    "sliced_tuple = original_tuple[start_index:end_index]\n",
    "\n",
    "# Print the result\n",
    "print(\"The new tuple is:\", sliced_tuple)\n",
    "\n"
   ]
  },
  {
   "cell_type": "code",
   "execution_count": 5,
   "id": "0a8bf146-2305-4f7a-bf7c-2452e6da8ee5",
   "metadata": {},
   "outputs": [
    {
     "name": "stdin",
     "output_type": "stream",
     "text": [
      "Enter the first set of characters (comma-separated):  b,d,e\n",
      "Enter the second set of characters (comma-separated):  b,a,c\n"
     ]
    },
    {
     "name": "stdout",
     "output_type": "stream",
     "text": [
      "The union of the two sets is: {'b', 'd', 'a', 'e', 'c'}\n"
     ]
    }
   ],
   "source": [
    "#26.Write a code that prompts the user to input two sets of characters. Then, print the union of these two sets.\n",
    "# Prompt the user for the first set of characters\n",
    "set1_input = input(\"Enter the first set of characters (comma-separated): \")\n",
    "# Convert the input into a set of characters, ignoring commas\n",
    "set1 = set(set1_input.replace(\" \", \"\").split(','))\n",
    "\n",
    "# Prompt the user for the second set of characters\n",
    "set2_input = input(\"Enter the second set of characters (comma-separated): \")\n",
    "# Convert the input into a set of characters, ignoring commas\n",
    "set2 = set(set2_input.replace(\" \", \"\").split(','))\n",
    "\n",
    "# Calculate the union of the two sets\n",
    "union_set = set1.union(set2)\n",
    "\n",
    "# Print the result\n",
    "print(\"The union of the two sets is:\", union_set)\n"
   ]
  },
  {
   "cell_type": "code",
   "execution_count": 8,
   "id": "63e95dd8-65b2-42c2-80cb-0a0476f601dc",
   "metadata": {},
   "outputs": [
    {
     "name": "stdin",
     "output_type": "stream",
     "text": [
      "Enter the integers for the tuple, separated by commas:  12, 7, 56, 8, 3\n"
     ]
    },
    {
     "name": "stdout",
     "output_type": "stream",
     "text": [
      "Maximum value: 56\n",
      "Minimum value: 3\n"
     ]
    }
   ],
   "source": [
    "#27.Develop a code that takes a tuple of integers as input. The function should return the maximum and minimum values from the tuple using tuple unpacking.\n",
    "# Prompt the user for a tuple of integers\n",
    "tuple_input = input(\"Enter the integers for the tuple, separated by commas: \")\n",
    "# Convert the input string into a tuple of integers\n",
    "integer_tuple = tuple(map(int, tuple_input.split(',')))\n",
    "\n",
    "# Find the maximum and minimum values\n",
    "max_value, min_value = max(integer_tuple), min(integer_tuple)\n",
    "\n",
    "# Print the results\n",
    "print(\"Maximum value:\", max_value)\n",
    "print(\"Minimum value:\", min_value)\n"
   ]
  },
  {
   "cell_type": "code",
   "execution_count": 9,
   "id": "a967d5d1-a53e-4697-b1cb-eac0aa141143",
   "metadata": {},
   "outputs": [
    {
     "name": "stdout",
     "output_type": "stream",
     "text": [
      "Set 1: {1, 2, 3, 4, 5}\n",
      "Set 2: {4, 5, 6, 7, 8}\n",
      "Union: {1, 2, 3, 4, 5, 6, 7, 8}\n",
      "Intersection: {4, 5}\n",
      "Difference (Set1 - Set2): {1, 2, 3}\n"
     ]
    }
   ],
   "source": [
    "#28.Create a code that defines two sets of integers. Then, print the union, intersection, and difference of these two sets.\n",
    "# Define two sets of integers\n",
    "set1 = {1, 2, 3, 4, 5}\n",
    "set2 = {4, 5, 6, 7, 8}\n",
    "\n",
    "# Compute union, intersection, and difference\n",
    "union_set = set1 | set2  # Union\n",
    "intersection_set = set1 & set2  # Intersection\n",
    "difference_set = set1 - set2  # Difference (set1 - set2)\n",
    "\n",
    "# Print the results\n",
    "print(\"Set 1:\", set1)\n",
    "print(\"Set 2:\", set2)\n",
    "print(\"Union:\", union_set)\n",
    "print(\"Intersection:\", intersection_set)\n",
    "print(\"Difference (Set1 - Set2):\", difference_set)\n"
   ]
  },
  {
   "cell_type": "code",
   "execution_count": 10,
   "id": "5c5df067-7309-4ad6-9dc2-a29ecd00c98d",
   "metadata": {},
   "outputs": [
    {
     "name": "stdin",
     "output_type": "stream",
     "text": [
      "Enter the elements of the tuple, separated by commas:  apple, banana, cherry, apple, banana, apple\n",
      "Enter the element to count:  apple\n"
     ]
    },
    {
     "name": "stdout",
     "output_type": "stream",
     "text": [
      "The element 'apple' occurs 3 times in the tuple.\n"
     ]
    }
   ],
   "source": [
    "#29.Write a code that takes a tuple and an element as input. The function should return the count of occurrences of the given element in the tuple.\n",
    "# Prompt the user for a tuple of elements\n",
    "tuple_input = input(\"Enter the elements of the tuple, separated by commas: \")\n",
    "# Convert the input string into a tuple\n",
    "user_tuple = tuple(map(str.strip, tuple_input.split(',')))\n",
    "\n",
    "# Prompt the user for the element to count\n",
    "element = input(\"Enter the element to count: \")\n",
    "\n",
    "# Count the occurrences of the element in the tuple\n",
    "occurrences = user_tuple.count(element)\n",
    "\n",
    "# Print the result\n",
    "print(f\"The element '{element}' occurs {occurrences} times in the tuple.\")\n"
   ]
  },
  {
   "cell_type": "code",
   "execution_count": 11,
   "id": "e32cbd46-deff-4faa-94f0-8fb0f390e7cf",
   "metadata": {},
   "outputs": [
    {
     "name": "stdin",
     "output_type": "stream",
     "text": [
      "Enter the elements of the first set, separated by commas:  apple, banana, cherry\n",
      "Enter the elements of the second set, separated by commas:  banana, date, fig\n"
     ]
    },
    {
     "name": "stdout",
     "output_type": "stream",
     "text": [
      "The symmetric difference of the two sets is: {'fig', 'cherry', 'apple', 'date'}\n"
     ]
    }
   ],
   "source": [
    "#30.Develop a code that prompts the user to input two sets of strings. Then, print the symmetric difference of these two sets.\n",
    "# Prompt the user to input two sets of strings\n",
    "set1_input = input(\"Enter the elements of the first set, separated by commas: \")\n",
    "set2_input = input(\"Enter the elements of the second set, separated by commas: \")\n",
    "\n",
    "# Convert the input strings into sets\n",
    "set1 = set(map(str.strip, set1_input.split(',')))\n",
    "set2 = set(map(str.strip, set2_input.split(',')))\n",
    "\n",
    "# Compute the symmetric difference\n",
    "symmetric_difference_set = set1 ^ set2  # Using the ^ operator for symmetric difference\n",
    "\n",
    "# Print the results\n",
    "print(\"The symmetric difference of the two sets is:\", symmetric_difference_set)\n"
   ]
  },
  {
   "cell_type": "code",
   "execution_count": 12,
   "id": "e0ee7d83-ece9-4617-bc3c-ef71ce4f43a6",
   "metadata": {},
   "outputs": [
    {
     "name": "stdin",
     "output_type": "stream",
     "text": [
      "Enter the list of words, separated by spaces:  apple banana cherry apple banana apple\n"
     ]
    },
    {
     "name": "stdout",
     "output_type": "stream",
     "text": [
      "Word frequencies: {'apple': 3, 'banana': 2, 'cherry': 1}\n"
     ]
    }
   ],
   "source": [
    "#31.Write a code that takes a list of words as input and returns a dictionary where the keys are unique words and the values are the frequencies of those words in the input list.\n",
    "# Prompt the user to input a list of words\n",
    "words_input = input(\"Enter the list of words, separated by spaces: \")\n",
    "\n",
    "# Convert the input string into a list of words\n",
    "words_list = words_input.split()\n",
    "\n",
    "# Create a dictionary to store the frequencies of each word\n",
    "word_frequencies = {}\n",
    "\n",
    "# Count the occurrences of each word\n",
    "for word in words_list:\n",
    "    word_frequencies[word] = word_frequencies.get(word, 0) + 1\n",
    "\n",
    "# Print the resulting dictionary\n",
    "print(\"Word frequencies:\", word_frequencies)\n"
   ]
  },
  {
   "cell_type": "code",
   "execution_count": 13,
   "id": "8f7a34f3-7430-4511-8299-d159df015d12",
   "metadata": {},
   "outputs": [
    {
     "name": "stdin",
     "output_type": "stream",
     "text": [
      "Enter the first dictionary (key:value pairs separated by commas):  apple:2,banana:3,cherry:5\n",
      "Enter the second dictionary (key:value pairs separated by commas):  banana:4,apple:1,pear:6\n"
     ]
    },
    {
     "name": "stdout",
     "output_type": "stream",
     "text": [
      "Merged Dictionary: {'apple': 3, 'banana': 7, 'cherry': 5, 'pear': 6}\n"
     ]
    }
   ],
   "source": [
    "#32.Write a code that takes two dictionaries as input and merges them into a single dictionary. If there are common keys, the values should be added together\n",
    "# Prompt the user to input two dictionaries\n",
    "dict1_input = input(\"Enter the first dictionary (key:value pairs separated by commas): \")\n",
    "dict2_input = input(\"Enter the second dictionary (key:value pairs separated by commas): \")\n",
    "\n",
    "# Convert the input strings into dictionaries\n",
    "dict1 = {}\n",
    "dict2 = {}\n",
    "\n",
    "# Parse the first dictionary input\n",
    "for pair in dict1_input.split(','):\n",
    "    key, value = pair.split(':')\n",
    "    dict1[key.strip()] = int(value.strip())  # Store as integer for calculations\n",
    "\n",
    "# Parse the second dictionary input\n",
    "for pair in dict2_input.split(','):\n",
    "    key, value = pair.split(':')\n",
    "    dict2[key.strip()] = int(value.strip())  # Store as integer for calculations\n",
    "\n",
    "# Merge the dictionaries and add values of common keys\n",
    "merged_dict = dict1.copy()  # Start with a copy of dict1\n",
    "for key, value in dict2.items():\n",
    "    if key in merged_dict:\n",
    "        merged_dict[key] += value  # Add the value if the key is common\n",
    "    else:\n",
    "        merged_dict[key] = value  # Otherwise, add the new key-value pair\n",
    "\n",
    "# Print the merged dictionary\n",
    "print(\"Merged Dictionary:\", merged_dict)\n"
   ]
  },
  {
   "cell_type": "code",
   "execution_count": 14,
   "id": "9f836325-dcaf-4431-8f74-fa7b665602b1",
   "metadata": {},
   "outputs": [
    {
     "name": "stdout",
     "output_type": "stream",
     "text": [
      "The value for the keys ['a', 'b', 'c'] is: 5\n"
     ]
    }
   ],
   "source": [
    "#33.Write a code to access a value in a nested dictionary.The function should take the dictionary and a list of keys as input, and return the corresponding value. \n",
    "#If any of the keys do not exist in the dictionary, the function should return None\n",
    "# Example nested dictionary\n",
    "nested_dict = {\n",
    "    'a': {\n",
    "        'b': {\n",
    "            'c': 5\n",
    "        },\n",
    "        'd': 10\n",
    "    }\n",
    "}\n",
    "\n",
    "# List of keys\n",
    "keys = ['a', 'b', 'c']\n",
    "\n",
    "# Accessing the value without using a function\n",
    "value = nested_dict\n",
    "for key in keys:\n",
    "    if key in value:\n",
    "        value = value[key]  # Move to the next level\n",
    "    else:\n",
    "        value = None  # Return None if key is not found\n",
    "        break\n",
    "\n",
    "# Print the result\n",
    "print(f\"The value for the keys {keys} is: {value}\")\n"
   ]
  },
  {
   "cell_type": "code",
   "execution_count": 15,
   "id": "e01813d7-b877-4255-88fd-6598f1a7383c",
   "metadata": {},
   "outputs": [
    {
     "name": "stdin",
     "output_type": "stream",
     "text": [
      "Enter the dictionary (key:value pairs separated by commas):  apple:2,banana:3,cherry:1\n",
      "Do you want to sort in ascending (a) or descending (d) order?  a\n"
     ]
    },
    {
     "name": "stdout",
     "output_type": "stream",
     "text": [
      "Sorted Dictionary: {'cherry': 1, 'apple': 2, 'banana': 3}\n"
     ]
    }
   ],
   "source": [
    "#34.Write a code that takes a dictionary as input and returns a sorted version of it based on the values. You can choose whether to sort in ascending or descending order.\n",
    "# Input the dictionary as a string of key-value pairs\n",
    "dict_input = input(\"Enter the dictionary (key:value pairs separated by commas): \")\n",
    "\n",
    "# Convert the input string into a dictionary\n",
    "dict_input = dict([tuple(x.split(\":\")) for x in dict_input.split(\",\")])\n",
    "\n",
    "# Convert string values to integers for sorting\n",
    "for key in dict_input:\n",
    "    dict_input[key] = int(dict_input[key])\n",
    "\n",
    "# Ask the user whether they want to sort in ascending or descending order\n",
    "order = input(\"Do you want to sort in ascending (a) or descending (d) order? \")\n",
    "\n",
    "# Convert the dictionary to a list of tuples (key-value pairs) to sort\n",
    "items = list(dict_input.items())\n",
    "\n",
    "# Sort the list of tuples based on values\n",
    "if order == 'a':\n",
    "    # Sorting in ascending order\n",
    "    for i in range(len(items)):\n",
    "        for j in range(i + 1, len(items)):\n",
    "            if items[i][1] > items[j][1]:\n",
    "                # Swap elements to sort in ascending order\n",
    "                items[i], items[j] = items[j], items[i]\n",
    "else:\n",
    "    # Sorting in descending order\n",
    "    for i in range(len(items)):\n",
    "        for j in range(i + 1, len(items)):\n",
    "            if items[i][1] < items[j][1]:\n",
    "                # Swap elements to sort in descending order\n",
    "                items[i], items[j] = items[j], items[i]\n",
    "\n",
    "# Convert the sorted list of tuples back to a dictionary\n",
    "sorted_dict = dict(items)\n",
    "\n",
    "# Print the sorted dictionary\n",
    "print(\"Sorted Dictionary:\", sorted_dict)\n"
   ]
  },
  {
   "cell_type": "code",
   "execution_count": 16,
   "id": "1c14d174-10db-474e-a468-e8b401534f5e",
   "metadata": {},
   "outputs": [
    {
     "name": "stdin",
     "output_type": "stream",
     "text": [
      "Enter the dictionary (key:value pairs separated by commas):  apple:1,banana:2,cherry:1,grape:3\n"
     ]
    },
    {
     "name": "stdout",
     "output_type": "stream",
     "text": [
      "Inverted Dictionary: {'1': ['apple', 'cherry'], '2': ['banana'], '3': ['grape']}\n"
     ]
    }
   ],
   "source": [
    "#35.Write a code that inverts a dictionary, swapping keys and values. Ensure that the inverted dictionary correctly\n",
    "#handles cases where multiple keys have the same value by storing the keys as a list in the inverted dictionary.\n",
    "\n",
    "# Input the dictionary as a string of key-value pairs\n",
    "dict_input = input(\"Enter the dictionary (key:value pairs separated by commas): \")\n",
    "\n",
    "# Convert the input string into a dictionary\n",
    "dict_input = dict([tuple(x.split(\":\")) for x in dict_input.split(\",\")])\n",
    "\n",
    "# Initialize an empty dictionary for the inverted dictionary\n",
    "inverted_dict = {}\n",
    "\n",
    "# Loop through the input dictionary to invert it\n",
    "for key, value in dict_input.items():\n",
    "    # If the value is already a key in the inverted dictionary\n",
    "    if value in inverted_dict:\n",
    "        # Append the key to the list of keys associated with this value\n",
    "        inverted_dict[value].append(key)\n",
    "    else:\n",
    "        # If the value is not in the inverted dictionary, create a new entry with the value as the key and the key as the list\n",
    "        inverted_dict[value] = [key]\n",
    "\n",
    "# Print the inverted dictionary\n",
    "print(\"Inverted Dictionary:\", inverted_dict)\n",
    "\n",
    "\n"
   ]
  },
  {
   "cell_type": "code",
   "execution_count": null,
   "id": "5d4d46f2-6aee-4496-ae10-025f2c2f2986",
   "metadata": {},
   "outputs": [],
   "source": []
  }
 ],
 "metadata": {
  "kernelspec": {
   "display_name": "Python 3 (ipykernel)",
   "language": "python",
   "name": "python3"
  },
  "language_info": {
   "codemirror_mode": {
    "name": "ipython",
    "version": 3
   },
   "file_extension": ".py",
   "mimetype": "text/x-python",
   "name": "python",
   "nbconvert_exporter": "python",
   "pygments_lexer": "ipython3",
   "version": "3.13.0"
  }
 },
 "nbformat": 4,
 "nbformat_minor": 5
}
